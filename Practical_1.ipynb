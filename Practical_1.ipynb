{
 "cells": [
  {
   "cell_type": "markdown",
   "id": "426486dd",
   "metadata": {},
   "source": [
    "# Practical_1: Variables and Assignments"
   ]
  },
  {
   "cell_type": "markdown",
   "id": "b7baca67-1766-4347-b45a-1a22342de4e7",
   "metadata": {},
   "source": [
    "Exercise 1:\n",
    "Declare a variable x and assign it the value 10"
   ]
  },
  {
   "cell_type": "code",
   "execution_count": 1,
   "id": "e3986413-c159-49d0-8761-3731bd336009",
   "metadata": {},
   "outputs": [
    {
     "data": {
      "text/plain": [
       "5"
      ]
     },
     "execution_count": 1,
     "metadata": {},
     "output_type": "execute_result"
    }
   ],
   "source": [
    "x=5\n",
    "x\n"
   ]
  },
  {
   "cell_type": "markdown",
   "id": "447463c6-f9fe-452b-9864-0b507f864f94",
   "metadata": {},
   "source": [
    "### Exercise 2:\n",
    "Assign the value `True` to a variable called `is_valid`."
   ]
  },
  {
   "cell_type": "code",
   "execution_count": 2,
   "id": "00ef5048-ad56-4af4-bf05-0ad87f7382f5",
   "metadata": {},
   "outputs": [
    {
     "data": {
      "text/plain": [
       "True"
      ]
     },
     "execution_count": 2,
     "metadata": {},
     "output_type": "execute_result"
    }
   ],
   "source": [
    "is_valid = True\n",
    "is_valid"
   ]
  },
  {
   "cell_type": "markdown",
   "id": "56c34708-9b31-4891-b3bb-799c509f6d56",
   "metadata": {},
   "source": [
    "\n",
    "### Exercise 3:\n",
    "Create a string variable `name` with the value \"Python Programming\".\n"
   ]
  },
  {
   "cell_type": "code",
   "execution_count": 4,
   "id": "16839d82-17c0-4cb9-9c66-2bf2638865b2",
   "metadata": {},
   "outputs": [
    {
     "data": {
      "text/plain": [
       "'Python Programming'"
      ]
     },
     "execution_count": 4,
     "metadata": {},
     "output_type": "execute_result"
    }
   ],
   "source": [
    "name=\"Python Programming\"\n",
    "name"
   ]
  },
  {
   "cell_type": "markdown",
   "id": "ea8e4c97-cc9a-4a26-a9fa-8a27e13741c9",
   "metadata": {},
   "source": [
    "### Exercise 4:\n",
    "Assign the result of `5 + 3` to a variable `sum_result`."
   ]
  },
  {
   "cell_type": "code",
   "execution_count": 5,
   "id": "b252cbc7-be71-49cb-ab33-2146dc93beef",
   "metadata": {},
   "outputs": [
    {
     "data": {
      "text/plain": [
       "8"
      ]
     },
     "execution_count": 5,
     "metadata": {},
     "output_type": "execute_result"
    }
   ],
   "source": [
    "sum_result=5+3\n",
    "sum_result"
   ]
  },
  {
   "cell_type": "markdown",
   "id": "e704da6c-b9a2-4f7d-a1bb-68ddcd104cec",
   "metadata": {},
   "source": [
    "### Exercise 5:\n",
    "Assign multiple variables in one line: `a = 5`, `b = 10`, `c = 15`.\n"
   ]
  },
  {
   "cell_type": "code",
   "execution_count": 6,
   "id": "3a5b9476-9976-4179-a398-87a55432bc08",
   "metadata": {},
   "outputs": [
    {
     "data": {
      "text/plain": [
       "(5, 10, 15)"
      ]
     },
     "execution_count": 6,
     "metadata": {},
     "output_type": "execute_result"
    }
   ],
   "source": [
    "a,b,c = 5,10,15\n",
    "a,b,c"
   ]
  },
  {
   "cell_type": "markdown",
   "id": "c1d26288-e5f0-4492-af5c-3e7fc89739aa",
   "metadata": {},
   "source": [
    "### Exercise 6:\n",
    "Assign the value of one variable `x` to another variable `y`."
   ]
  },
  {
   "cell_type": "code",
   "execution_count": 7,
   "id": "89453d5f-ac08-4a3a-9f4f-776ec8749194",
   "metadata": {},
   "outputs": [
    {
     "data": {
      "text/plain": [
       "5"
      ]
     },
     "execution_count": 7,
     "metadata": {},
     "output_type": "execute_result"
    }
   ],
   "source": [
    "y=x\n",
    "y"
   ]
  },
  {
   "cell_type": "markdown",
   "id": "f1e0a807-b658-466e-abf7-66236a4d3cf3",
   "metadata": {},
   "source": [
    "### Exercise 7:\n",
    "Assign a floating-point number `9.8` to a variable `gravity`.\n"
   ]
  },
  {
   "cell_type": "code",
   "execution_count": 8,
   "id": "ba24719b-5ee7-402f-a435-3fa50db43d2b",
   "metadata": {},
   "outputs": [
    {
     "data": {
      "text/plain": [
       "9.8"
      ]
     },
     "execution_count": 8,
     "metadata": {},
     "output_type": "execute_result"
    }
   ],
   "source": [
    "gravity=9.8\n",
    "gravity"
   ]
  },
  {
   "cell_type": "markdown",
   "id": "9d4e7162-0b1a-4c3f-a578-cb758e48c79c",
   "metadata": {},
   "source": [
    "### Exercise 8:\n",
    "Create a variable `country` and assign it the string value of your favorite country.\n"
   ]
  },
  {
   "cell_type": "code",
   "execution_count": 9,
   "id": "83d5411e-3bd9-4b71-a892-3cc537d2629c",
   "metadata": {},
   "outputs": [
    {
     "data": {
      "text/plain": [
       "'Rwanda'"
      ]
     },
     "execution_count": 9,
     "metadata": {},
     "output_type": "execute_result"
    }
   ],
   "source": [
    "country=\"Rwanda\"\n",
    "country"
   ]
  },
  {
   "cell_type": "markdown",
   "id": "c22468ea-4809-43c9-9393-af6252ffb6f5",
   "metadata": {},
   "source": [
    "### Exercise 9:\n",
    "Change the value of variable `age` from `25` to `26` in two separate steps.\n"
   ]
  },
  {
   "cell_type": "code",
   "execution_count": 10,
   "id": "ea5eb5c8-1f25-4039-b0c9-c378214d7008",
   "metadata": {},
   "outputs": [
    {
     "data": {
      "text/plain": [
       "26"
      ]
     },
     "execution_count": 10,
     "metadata": {},
     "output_type": "execute_result"
    }
   ],
   "source": [
    "age=25\n",
    "age=26\n",
    "age"
   ]
  },
  {
   "cell_type": "markdown",
   "id": "80a1beaa-dc14-4f95-81f9-f704504340be",
   "metadata": {},
   "source": [
    "### Exercise 10:\n",
    "Use one variable to store the result of subtracting two numbers `20 - 7`.\n"
   ]
  },
  {
   "cell_type": "code",
   "execution_count": 11,
   "id": "158e762b-46ed-4ade-bc6c-7630d25c5f1c",
   "metadata": {},
   "outputs": [
    {
     "data": {
      "text/plain": [
       "13"
      ]
     },
     "execution_count": 11,
     "metadata": {},
     "output_type": "execute_result"
    }
   ],
   "source": [
    "result=20-7\n",
    "result"
   ]
  },
  {
   "cell_type": "markdown",
   "id": "2d98a954-fa2c-4273-bf76-da08b4344e7c",
   "metadata": {},
   "source": [
    "### Exercise 11:\n",
    "Assign an integer value and a floating-point value to two different variables."
   ]
  },
  {
   "cell_type": "code",
   "execution_count": 13,
   "id": "a44fc305-7067-4ad7-9246-3fdfc20fba16",
   "metadata": {},
   "outputs": [
    {
     "name": "stdout",
     "output_type": "stream",
     "text": [
      "13 2.7\n"
     ]
    }
   ],
   "source": [
    "int_value=13\n",
    "float_value=2.7\n",
    "print(int_value,float_value)"
   ]
  },
  {
   "cell_type": "markdown",
   "id": "21b1f413-b416-4f29-aabb-aa77661bea0b",
   "metadata": {},
   "source": [
    "### Exercise 12:\n",
    "Assign a boolean value `False` to a variable `is_completed`."
   ]
  },
  {
   "cell_type": "code",
   "execution_count": 14,
   "id": "86837618-9ac2-4781-b948-aa426735941b",
   "metadata": {},
   "outputs": [
    {
     "data": {
      "text/plain": [
       "False"
      ]
     },
     "execution_count": 14,
     "metadata": {},
     "output_type": "execute_result"
    }
   ],
   "source": [
    "is_completed=False\n",
    "is_completed"
   ]
  },
  {
   "cell_type": "markdown",
   "id": "010f637f-8d38-4f21-b033-4b2b531a0272",
   "metadata": {},
   "source": [
    "### Exercise 13:\n",
    "Swap the values of two variables `x` and `y`.\n"
   ]
  },
  {
   "cell_type": "code",
   "execution_count": 15,
   "id": "838df7cd-8cfa-46eb-a0a3-2e3eb87edac4",
   "metadata": {},
   "outputs": [
    {
     "name": "stdout",
     "output_type": "stream",
     "text": [
      "6 2\n"
     ]
    }
   ],
   "source": [
    "x=2\n",
    "y=6\n",
    "x,y=y,x\n",
    "print(x,y)"
   ]
  },
  {
   "cell_type": "markdown",
   "id": "35f27767-dd80-4120-8db3-56b33eebef44",
   "metadata": {},
   "source": [
    "\n",
    "### Exercise 14:\n",
    "Assign a complex number `3 + 4j` to a variable `complex_num`."
   ]
  },
  {
   "cell_type": "code",
   "execution_count": 16,
   "id": "a6b0d230-a043-4d41-973f-84101ae5421d",
   "metadata": {},
   "outputs": [
    {
     "data": {
      "text/plain": [
       "(3+4j)"
      ]
     },
     "execution_count": 16,
     "metadata": {},
     "output_type": "execute_result"
    }
   ],
   "source": [
    "complex_num=3+4j\n",
    "complex_num\n"
   ]
  },
  {
   "cell_type": "markdown",
   "id": "c59b9235-b37c-420f-b44c-032a54e7fca0",
   "metadata": {},
   "source": [
    "### Exercise 15:\n",
    "Reassign a variable from an integer to a string.\n"
   ]
  },
  {
   "cell_type": "code",
   "execution_count": 17,
   "id": "922d89b7-306c-407d-9709-12a3bdbc5092",
   "metadata": {},
   "outputs": [
    {
     "name": "stdout",
     "output_type": "stream",
     "text": [
      "six\n"
     ]
    }
   ],
   "source": [
    "num_var=6\n",
    "num_var=\"six\"\n",
    "print(num_var)"
   ]
  },
  {
   "cell_type": "markdown",
   "id": "788515ea-c1a3-423f-a370-32483e0b3693",
   "metadata": {},
   "source": [
    "### Exercise 16:\n",
    "Create two variables `first_name` and `last_name`, and assign them your first and last names."
   ]
  },
  {
   "cell_type": "code",
   "execution_count": 18,
   "id": "f512a8a2-f9fb-4a2a-a354-ce436bfb363d",
   "metadata": {},
   "outputs": [
    {
     "name": "stdout",
     "output_type": "stream",
     "text": [
      "coco uwase\n"
     ]
    }
   ],
   "source": [
    "first_name=\"coco\"\n",
    "last_name=\"uwase\"\n",
    "print(first_name,last_name)"
   ]
  },
  {
   "cell_type": "markdown",
   "id": "b9eeabbd-c358-4cee-81fb-55d2552af3be",
   "metadata": {},
   "source": [
    "### Exercise 17:\n",
    "Create a variable `temperature` and assign it the value of `35.5`.\n"
   ]
  },
  {
   "cell_type": "code",
   "execution_count": 19,
   "id": "897407a2-e1be-494d-87d2-95411524cc59",
   "metadata": {},
   "outputs": [
    {
     "data": {
      "text/plain": [
       "35.5"
      ]
     },
     "execution_count": 19,
     "metadata": {},
     "output_type": "execute_result"
    }
   ],
   "source": [
    "temperature=35.5\n",
    "temperature"
   ]
  },
  {
   "cell_type": "markdown",
   "id": "59b7532a-dbd7-4189-a797-303dd6aec34d",
   "metadata": {},
   "source": [
    "### Exercise 18:\n",
    "Assign the result of the multiplication of two numbers `8 * 6` to a variable `product`.\n"
   ]
  },
  {
   "cell_type": "code",
   "execution_count": 20,
   "id": "02871d73-f0d0-4e2d-8d51-df9a5278c31b",
   "metadata": {},
   "outputs": [
    {
     "data": {
      "text/plain": [
       "48"
      ]
     },
     "execution_count": 20,
     "metadata": {},
     "output_type": "execute_result"
    }
   ],
   "source": [
    "product=8*6\n",
    "product"
   ]
  },
  {
   "cell_type": "markdown",
   "id": "a14052dd-4d93-4e03-b38f-eeeb5639eb31",
   "metadata": {},
   "source": [
    "### Exercise 19:\n",
    "Assign a sentence of your choice to a variable `sentence`.\n"
   ]
  },
  {
   "cell_type": "code",
   "execution_count": 21,
   "id": "8e0ac676-e879-405a-83e9-9692bd45ddfd",
   "metadata": {},
   "outputs": [
    {
     "data": {
      "text/plain": [
       "'i love coco'"
      ]
     },
     "execution_count": 21,
     "metadata": {},
     "output_type": "execute_result"
    }
   ],
   "source": [
    "sentence=\"i love coco\"\n",
    "sentence"
   ]
  },
  {
   "cell_type": "markdown",
   "id": "3c33ad8a-2967-4157-9e59-b50656efe563",
   "metadata": {},
   "source": [
    "### Exercise 20:\n",
    "Use an assignment to convert a string `'50'` into an integer variable `int_value`.\n"
   ]
  },
  {
   "cell_type": "code",
   "execution_count": 22,
   "id": "f7e07738-7ef4-4472-b12e-e1bae030e18d",
   "metadata": {},
   "outputs": [
    {
     "data": {
      "text/plain": [
       "50"
      ]
     },
     "execution_count": 22,
     "metadata": {},
     "output_type": "execute_result"
    }
   ],
   "source": [
    "int_value=int('50')\n",
    "int_value"
   ]
  },
  {
   "cell_type": "markdown",
   "id": "84f4646f-515c-480b-96d0-f45658efc74a",
   "metadata": {},
   "source": [
    "### Exercise 21:\n",
    "Assign the result of dividing `144` by `12` to a variable `quotient`.\n"
   ]
  },
  {
   "cell_type": "code",
   "execution_count": 23,
   "id": "4b9c3f61-243f-471c-80fe-72a3a33ff159",
   "metadata": {},
   "outputs": [
    {
     "data": {
      "text/plain": [
       "12.0"
      ]
     },
     "execution_count": 23,
     "metadata": {},
     "output_type": "execute_result"
    }
   ],
   "source": [
    "quotient=144/12\n",
    "quotient"
   ]
  },
  {
   "cell_type": "markdown",
   "id": "d8a49c53-fa10-4be7-b283-7beac70f9d2f",
   "metadata": {},
   "source": [
    "### Exercise 22:\n",
    "Assign the remainder of `47 divided by 5` to a variable `remainder`.\n"
   ]
  },
  {
   "cell_type": "code",
   "execution_count": 24,
   "id": "f121b158-6b42-4733-8bf3-6f9bc0949d88",
   "metadata": {},
   "outputs": [
    {
     "data": {
      "text/plain": [
       "2"
      ]
     },
     "execution_count": 24,
     "metadata": {},
     "output_type": "execute_result"
    }
   ],
   "source": [
    "remainder=47%5\n",
    "remainder"
   ]
  },
  {
   "cell_type": "markdown",
   "id": "6fa8c90a-bb1c-45be-8861-c16835ae8255",
   "metadata": {},
   "source": [
    "### Exercise 23:\n",
    "Create a variable `is_student` and assign it the value `True`.\n"
   ]
  },
  {
   "cell_type": "code",
   "execution_count": 25,
   "id": "0fe3e22c-6985-4d87-bde9-af4683af4822",
   "metadata": {},
   "outputs": [
    {
     "data": {
      "text/plain": [
       "True"
      ]
     },
     "execution_count": 25,
     "metadata": {},
     "output_type": "execute_result"
    }
   ],
   "source": [
    "is_student=True\n",
    "is_student"
   ]
  },
  {
   "cell_type": "markdown",
   "id": "81a34025-7795-461b-a6f2-2bcae435f363",
   "metadata": {},
   "source": [
    "### Exercise 24:\n",
    "Use a variable to store the result of a modulo operation: `45 % 4`.\n"
   ]
  },
  {
   "cell_type": "code",
   "execution_count": 26,
   "id": "a654fae8-ef3c-4137-a215-286c9bd38566",
   "metadata": {},
   "outputs": [
    {
     "data": {
      "text/plain": [
       "1"
      ]
     },
     "execution_count": 26,
     "metadata": {},
     "output_type": "execute_result"
    }
   ],
   "source": [
    "mod_result=45%4\n",
    "mod_result"
   ]
  },
  {
   "cell_type": "markdown",
   "id": "386863ea-719d-4b37-ab69-0a764b6ecaa1",
   "metadata": {},
   "source": [
    "### Exercise 25:\n",
    "Create a variable `pi` and assign it the value `3.14159`.\n"
   ]
  },
  {
   "cell_type": "code",
   "execution_count": 27,
   "id": "dd029802-3731-46bb-b7ec-8e39f69b951d",
   "metadata": {},
   "outputs": [
    {
     "data": {
      "text/plain": [
       "3.14159"
      ]
     },
     "execution_count": 27,
     "metadata": {},
     "output_type": "execute_result"
    }
   ],
   "source": [
    "pi=3.14159\n",
    "pi"
   ]
  },
  {
   "cell_type": "markdown",
   "id": "11736b24-8e2b-4f59-92d1-304a97b82b10",
   "metadata": {},
   "source": [
    "### Exercise 26:\n",
    "Create two variables `length` and `width`, assign them values, and calculate the area of a rectangle.\n"
   ]
  },
  {
   "cell_type": "code",
   "execution_count": 28,
   "id": "3125ef54-c8f6-45fd-84cc-ddc3edabbff3",
   "metadata": {},
   "outputs": [
    {
     "data": {
      "text/plain": [
       "276"
      ]
     },
     "execution_count": 28,
     "metadata": {},
     "output_type": "execute_result"
    }
   ],
   "source": [
    "length=23\n",
    "width=12\n",
    "area=length*width\n",
    "area"
   ]
  },
  {
   "cell_type": "markdown",
   "id": "53a5359c-8011-412b-a7c6-8eb8e523f758",
   "metadata": {},
   "source": [
    "### Exercise 27:\n",
    "Assign a negative number to a variable `negative_value`.\n"
   ]
  },
  {
   "cell_type": "code",
   "execution_count": 29,
   "id": "24b7db15-0995-48a8-8d61-50ff5058454f",
   "metadata": {},
   "outputs": [
    {
     "data": {
      "text/plain": [
       "-5"
      ]
     },
     "execution_count": 29,
     "metadata": {},
     "output_type": "execute_result"
    }
   ],
   "source": [
    "negative_value=-5\n",
    "negative_value"
   ]
  },
  {
   "cell_type": "markdown",
   "id": "70ba3dec-f3bf-4e01-be5b-3d347a60d6d2",
   "metadata": {},
   "source": [
    "### Exercise 28:\n",
    "Assign a string containing a special character (e.g., \"Hello, World!\") to a variable `greeting`.\n"
   ]
  },
  {
   "cell_type": "code",
   "execution_count": 30,
   "id": "e44c85e6-ace9-435b-886e-07d6c056c7cd",
   "metadata": {},
   "outputs": [
    {
     "data": {
      "text/plain": [
       "'hello,world'"
      ]
     },
     "execution_count": 30,
     "metadata": {},
     "output_type": "execute_result"
    }
   ],
   "source": [
    "greeting=\"hello,world\"\n",
    "greeting"
   ]
  },
  {
   "cell_type": "markdown",
   "id": "bf657d4d-008b-4269-ad36-ef5cd7bb466e",
   "metadata": {},
   "source": [
    "### Exercise 29:\n",
    "Create a variable `population` and assign it a large integer value (in billions)."
   ]
  },
  {
   "cell_type": "code",
   "execution_count": 31,
   "id": "2d5330d5-4b28-4032-9cd5-a3064d6aa25f",
   "metadata": {},
   "outputs": [
    {
     "data": {
      "text/plain": [
       "230000000000"
      ]
     },
     "execution_count": 31,
     "metadata": {},
     "output_type": "execute_result"
    }
   ],
   "source": [
    "population=230000000000\n",
    "population"
   ]
  },
  {
   "cell_type": "markdown",
   "id": "15d4384a-fcc9-41a9-8092-96fa5e420b1e",
   "metadata": {},
   "source": [
    "### Exercise 30:\n",
    "Use a variable to store the result of raising `2` to the power of `8`.\n"
   ]
  },
  {
   "cell_type": "code",
   "execution_count": 32,
   "id": "cf7298cb-4bd5-44ab-badc-04c4c0ac67f6",
   "metadata": {},
   "outputs": [
    {
     "data": {
      "text/plain": [
       "16"
      ]
     },
     "execution_count": 32,
     "metadata": {},
     "output_type": "execute_result"
    }
   ],
   "source": [
    "power_result=2**4\n",
    "power_result"
   ]
  },
  {
   "cell_type": "markdown",
   "id": "e5d2795b-35a4-455a-a87a-b5ab4e8b3a9a",
   "metadata": {},
   "source": [
    "### Exercise 31:\n",
    "Assign a list of your favorite fruits to a variable `fruits`.\n"
   ]
  },
  {
   "cell_type": "code",
   "execution_count": 33,
   "id": "5382d802-e300-4486-85ff-44ccbe560c24",
   "metadata": {},
   "outputs": [
    {
     "data": {
      "text/plain": [
       "['mango', 'apple']"
      ]
     },
     "execution_count": 33,
     "metadata": {},
     "output_type": "execute_result"
    }
   ],
   "source": [
    "fruits=[\"mango\",\"apple\"]\n",
    "fruits"
   ]
  },
  {
   "cell_type": "code",
   "execution_count": null,
   "id": "1b53c499-e7dd-4934-8042-70d10ff9db1a",
   "metadata": {},
   "outputs": [],
   "source": [
    "### Exercise 32:\n",
    "Assign a tuple of three numbers to a variable `coordinates`.\n"
   ]
  },
  {
   "cell_type": "code",
   "execution_count": 34,
   "id": "1ce4c322-c4be-4f9d-81eb-27624f2bfebf",
   "metadata": {},
   "outputs": [
    {
     "data": {
      "text/plain": [
       "(13, 12, 11)"
      ]
     },
     "execution_count": 34,
     "metadata": {},
     "output_type": "execute_result"
    }
   ],
   "source": [
    "coordinates=(13,12,11)\n",
    "coordinates"
   ]
  },
  {
   "cell_type": "markdown",
   "id": "210dbb13-e510-4182-8fb3-857850e16399",
   "metadata": {},
   "source": [
    "### Exercise 33:\n",
    "Assign a dictionary with keys `name` and `age` to a variable `person`.\n"
   ]
  },
  {
   "cell_type": "code",
   "execution_count": 35,
   "id": "69408676-cf4d-4f73-b2d0-ac5386c3efc8",
   "metadata": {},
   "outputs": [
    {
     "data": {
      "text/plain": [
       "{'name': 'coco', 'age': 46}"
      ]
     },
     "execution_count": 35,
     "metadata": {},
     "output_type": "execute_result"
    }
   ],
   "source": [
    "person={\"name\":\"coco\",\"age\":46}\n",
    "person"
   ]
  },
  {
   "cell_type": "markdown",
   "id": "16792c81-6168-4870-8d08-2c0f4b71d84a",
   "metadata": {},
   "source": [
    "### Exercise 34:\n",
    "Use variables to store the sum of two floating-point numbers.\n"
   ]
  },
  {
   "cell_type": "code",
   "execution_count": 36,
   "id": "6626d3a5-4ae7-421e-b7eb-8b315860fa61",
   "metadata": {},
   "outputs": [
    {
     "data": {
      "text/plain": [
       "8.9"
      ]
     },
     "execution_count": 36,
     "metadata": {},
     "output_type": "execute_result"
    }
   ],
   "source": [
    "num1=6.5\n",
    "num2=2.4\n",
    "num_sum=num1+num2\n",
    "num_sum"
   ]
  },
  {
   "cell_type": "markdown",
   "id": "07bd07a0-f056-4fe8-bdd4-db976f288a1f",
   "metadata": {},
   "source": [
    "### Exercise 35:\n",
    "Create a variable `is_sunny` and assign it the result of a comparison `10 > 5`.\n"
   ]
  },
  {
   "cell_type": "code",
   "execution_count": 37,
   "id": "051ed71f-8c87-417a-9ebd-281d6fc50593",
   "metadata": {},
   "outputs": [
    {
     "data": {
      "text/plain": [
       "True"
      ]
     },
     "execution_count": 37,
     "metadata": {},
     "output_type": "execute_result"
    }
   ],
   "source": [
    "is_sunny=10>5\n",
    "is_sunny"
   ]
  },
  {
   "cell_type": "markdown",
   "id": "bb1b8caf-da40-4907-b9e5-a758479f5863",
   "metadata": {},
   "source": [
    "### Exercise 36:\n",
    "Assign a string and an integer to two different variables, then print both on one line.\n"
   ]
  },
  {
   "cell_type": "code",
   "execution_count": 38,
   "id": "af45aaf9-d033-449e-8264-196ee59341e0",
   "metadata": {},
   "outputs": [
    {
     "name": "stdout",
     "output_type": "stream",
     "text": [
      "age 6\n"
     ]
    }
   ],
   "source": [
    "word=\"age\"\n",
    "number=6\n",
    "print(word,number)"
   ]
  },
  {
   "cell_type": "markdown",
   "id": "a2bc7399-75df-4389-bc9b-abd61c2afeb9",
   "metadata": {},
   "source": [
    "### Exercise 37:\n",
    "Reassign a variable that originally held a number to a boolean value.\n"
   ]
  },
  {
   "cell_type": "code",
   "execution_count": 39,
   "id": "32e8608a-ba74-43aa-b154-d96014e777bc",
   "metadata": {},
   "outputs": [
    {
     "data": {
      "text/plain": [
       "True"
      ]
     },
     "execution_count": 39,
     "metadata": {},
     "output_type": "execute_result"
    }
   ],
   "source": [
    "variable=233\n",
    "variable=True\n",
    "variable"
   ]
  },
  {
   "cell_type": "markdown",
   "id": "f375c36f-7d06-447b-a5e2-68b7f045ed82",
   "metadata": {},
   "source": [
    "### Exercise 38:\n",
    "Create a variable `is_weekend` and assign it the result of `False`.\n"
   ]
  },
  {
   "cell_type": "code",
   "execution_count": 40,
   "id": "2e7eb0b5-3a99-4393-852e-afe0e82d86d7",
   "metadata": {},
   "outputs": [
    {
     "data": {
      "text/plain": [
       "False"
      ]
     },
     "execution_count": 40,
     "metadata": {},
     "output_type": "execute_result"
    }
   ],
   "source": [
    "is_weekend=False\n",
    "is_weekend"
   ]
  },
  {
   "cell_type": "markdown",
   "id": "4f383683-fc46-4659-be2a-ec64a0330667",
   "metadata": {},
   "source": [
    "### Exercise 39:\n",
    "Assign a multi-line string to a variable `description`.\n"
   ]
  },
  {
   "cell_type": "code",
   "execution_count": 41,
   "id": "8a6fdf77-3928-40f0-b471-2cd6dd57771d",
   "metadata": {},
   "outputs": [
    {
     "data": {
      "text/plain": [
       "'i hate coco. but she is cute.she is short'"
      ]
     },
     "execution_count": 41,
     "metadata": {},
     "output_type": "execute_result"
    }
   ],
   "source": [
    "description=\"\"\"i hate coco. but she is cute.she is short\"\"\"\n",
    "description"
   ]
  },
  {
   "cell_type": "markdown",
   "id": "a11e568b-4131-4ae9-90b4-e9de055f72ce",
   "metadata": {},
   "source": [
    "### Exercise 40:\n",
    "Use variables to store the result of the absolute value of `-25`.\n"
   ]
  },
  {
   "cell_type": "code",
   "execution_count": 42,
   "id": "7fb73cef-a895-42fc-91cd-919af5de7ab7",
   "metadata": {},
   "outputs": [
    {
     "data": {
      "text/plain": [
       "25"
      ]
     },
     "execution_count": 42,
     "metadata": {},
     "output_type": "execute_result"
    }
   ],
   "source": [
    "abs_value=abs(-25)\n",
    "abs_value"
   ]
  },
  {
   "cell_type": "markdown",
   "id": "40784196-51ee-47bc-bab8-408158920d44",
   "metadata": {},
   "source": [
    "### Exercise 41:\n",
    "Assign the result of a floor division `100 // 6` to a variable `floor_div_result`.\n"
   ]
  },
  {
   "cell_type": "code",
   "execution_count": 43,
   "id": "10f81b1f-93b3-41a4-bd13-8d6933fa6c71",
   "metadata": {},
   "outputs": [
    {
     "data": {
      "text/plain": [
       "16"
      ]
     },
     "execution_count": 43,
     "metadata": {},
     "output_type": "execute_result"
    }
   ],
   "source": [
    "floor_div_result=100//6\n",
    "floor_div_result"
   ]
  },
  {
   "cell_type": "markdown",
   "id": "9e8ef876-a898-48e8-96a7-cc08307bad74",
   "metadata": {},
   "source": [
    "### Exercise 42:\n",
    "Assign the result of adding a floating-point number to an integer to a variable `mixed_sum`.\n"
   ]
  },
  {
   "cell_type": "code",
   "execution_count": 44,
   "id": "17a19206-d79d-499a-abb5-43345397741f",
   "metadata": {},
   "outputs": [
    {
     "data": {
      "text/plain": [
       "48.9"
      ]
     },
     "execution_count": 44,
     "metadata": {},
     "output_type": "execute_result"
    }
   ],
   "source": [
    "mixed_sum=45\n",
    "float_num=3.9\n",
    "result=mixed_sum+float_num\n",
    "result"
   ]
  },
  {
   "cell_type": "markdown",
   "id": "8aebbd58-5457-4ff4-b964-d4f19c418b8c",
   "metadata": {},
   "source": [
    "### Exercise 43:\n",
    "Use variables to store a combination of string concatenation.\n"
   ]
  },
  {
   "cell_type": "markdown",
   "id": "0aa7a637-7f1b-49e7-ab77-c8127cac519b",
   "metadata": {},
   "source": [
    "### Exercise 44:\n",
    "Assign an empty list to a variable `empty_list`.\n"
   ]
  },
  {
   "cell_type": "code",
   "execution_count": 45,
   "id": "3eaa249a-ca91-46c0-a9ee-f0a779a59e6b",
   "metadata": {},
   "outputs": [
    {
     "data": {
      "text/plain": [
       "[]"
      ]
     },
     "execution_count": 45,
     "metadata": {},
     "output_type": "execute_result"
    }
   ],
   "source": [
    "empty_list=[]\n",
    "empty_list"
   ]
  },
  {
   "cell_type": "markdown",
   "id": "db6441d3-687b-43a2-8bbc-a13c1269b253",
   "metadata": {},
   "source": [
    "### Exercise 45:\n",
    "Assign a boolean value based on the comparison of two variables `a = 10` and `b = 15`.\n"
   ]
  },
  {
   "cell_type": "code",
   "execution_count": 46,
   "id": "5f4d1dcb-a045-4ef0-a1f5-073039f33741",
   "metadata": {},
   "outputs": [
    {
     "data": {
      "text/plain": [
       "True"
      ]
     },
     "execution_count": 46,
     "metadata": {},
     "output_type": "execute_result"
    }
   ],
   "source": [
    "a=10\n",
    "b=15\n",
    "comparison=a < b\n",
    "comparison"
   ]
  },
  {
   "cell_type": "markdown",
   "id": "ca5a483e-b623-4df4-950a-5ba84b5fe0dc",
   "metadata": {},
   "source": [
    "### Exercise 46:\n",
    "Assign a long sentence to a variable and count its characters using `len()`.\n"
   ]
  },
  {
   "cell_type": "code",
   "execution_count": 47,
   "id": "319350c9-cf37-4e8c-abe1-c337d0a50634",
   "metadata": {},
   "outputs": [
    {
     "data": {
      "text/plain": [
       "70"
      ]
     },
     "execution_count": 47,
     "metadata": {},
     "output_type": "execute_result"
    }
   ],
   "source": [
    "lon_sent=\"i have meet with alot of people nowdays but the least got my attention\"\n",
    "char_count=len(lon_sent)\n",
    "char_count"
   ]
  },
  {
   "cell_type": "markdown",
   "id": "bca4791c-863a-4299-914c-812580f5b98d",
   "metadata": {},
   "source": [
    "### Exercise 47:\n",
    "Assign a fractional result `7 / 3` to a variable `division_result`."
   ]
  },
  {
   "cell_type": "code",
   "execution_count": 49,
   "id": "fcb7fb1e-c552-4bdb-a30c-cff2bc0b8ec2",
   "metadata": {},
   "outputs": [
    {
     "data": {
      "text/plain": [
       "2.3333333333333335"
      ]
     },
     "execution_count": 49,
     "metadata": {},
     "output_type": "execute_result"
    }
   ],
   "source": [
    "division_result=7/3\n",
    "division_result"
   ]
  },
  {
   "cell_type": "markdown",
   "id": "a52b6a55-87f7-4d05-93fa-879f8d3eb856",
   "metadata": {},
   "source": [
    "### Exercise 48:\n",
    "Create a variable `speed` and assign it the value of 100 kilometers per hour.\n"
   ]
  },
  {
   "cell_type": "code",
   "execution_count": 50,
   "id": "0eedc0c9-a07d-44f7-b03a-af83fe5314e7",
   "metadata": {},
   "outputs": [
    {
     "data": {
      "text/plain": [
       "100"
      ]
     },
     "execution_count": 50,
     "metadata": {},
     "output_type": "execute_result"
    }
   ],
   "source": [
    "speed=100\n",
    "speed"
   ]
  },
  {
   "cell_type": "markdown",
   "id": "69f96ba9-74a5-41dd-96b7-6d9bac59d33e",
   "metadata": {},
   "source": [
    "### Exercise 49:\n",
    "Assign a multi-variable equation like `y = 3x + 5` where `x = 4` to a variable `y`.\n"
   ]
  },
  {
   "cell_type": "code",
   "execution_count": 51,
   "id": "992ab389-186b-4260-858d-d72c8003b6f2",
   "metadata": {},
   "outputs": [
    {
     "data": {
      "text/plain": [
       "17"
      ]
     },
     "execution_count": 51,
     "metadata": {},
     "output_type": "execute_result"
    }
   ],
   "source": [
    "x=4\n",
    "y=3*x + 5\n",
    "y"
   ]
  },
  {
   "cell_type": "markdown",
   "id": "c0b2e3eb-006a-4775-89c0-793d8c1ee91f",
   "metadata": {},
   "source": [
    "### Exercise 50:\n",
    "Use variables to calculate and store the average of three numbers.\n"
   ]
  },
  {
   "cell_type": "code",
   "execution_count": null,
   "id": "03393590-5877-4c68-94f7-6502cc5d8370",
   "metadata": {},
   "outputs": [],
   "source": [
    "num1=12\n",
    "num2=6\n",
    "num3=5\n",
    "average=(num1)"
   ]
  },
  {
   "cell_type": "code",
   "execution_count": null,
   "id": "9657da1d-f550-49ce-8638-475aa10d8985",
   "metadata": {},
   "outputs": [],
   "source": []
  },
  {
   "cell_type": "code",
   "execution_count": null,
   "id": "1be93d1a-ddf8-4bf8-971a-175f555d9ec7",
   "metadata": {},
   "outputs": [],
   "source": []
  },
  {
   "cell_type": "code",
   "execution_count": null,
   "id": "4af0b0fa-a8f7-49f9-879f-9e60e1165574",
   "metadata": {},
   "outputs": [],
   "source": []
  },
  {
   "cell_type": "code",
   "execution_count": null,
   "id": "2895d96e-63fe-4b47-ae7e-bea7d09c9588",
   "metadata": {},
   "outputs": [],
   "source": []
  },
  {
   "cell_type": "code",
   "execution_count": null,
   "id": "eb89978e-1d18-4e2b-9d0c-eef6c7b1e45e",
   "metadata": {},
   "outputs": [],
   "source": []
  },
  {
   "cell_type": "markdown",
   "id": "9fb19f0d",
   "metadata": {},
   "source": [
    "----\n",
    "\n",
    "### Exercise 1:\n",
    "Declare a variable `x` and assign it the value `10`.\n",
    "\n",
    "```python\n",
    "# Exercise 1\n",
    "```\n",
    "\n",
    "---\n",
    "\n",
    "### Exercise 2:\n",
    "Assign the value `True` to a variable called `is_valid`.\n",
    "\n",
    "```python\n",
    "# Exercise 2\n",
    "```\n",
    "\n",
    "---\n",
    "\n",
    "### Exercise 3:\n",
    "Create a string variable `name` with the value \"Python Programming\".\n",
    "\n",
    "```python\n",
    "# Exercise 3\n",
    "```\n",
    "\n",
    "---\n",
    "\n",
    "### Exercise 4:\n",
    "Assign the result of `5 + 3` to a variable `sum_result`.\n",
    "\n",
    "```python\n",
    "# Exercise 4\n",
    "```\n",
    "\n",
    "---\n",
    "\n",
    "### Exercise 5:\n",
    "Assign multiple variables in one line: `a = 5`, `b = 10`, `c = 15`.\n",
    "\n",
    "```python\n",
    "# Exercise 5\n",
    "```\n",
    "\n",
    "---\n",
    "\n",
    "### Exercise 6:\n",
    "Assign the value of one variable `x` to another variable `y`.\n",
    "\n",
    "```python\n",
    "# Exercise 6\n",
    "```\n",
    "\n",
    "---\n",
    "\n",
    "### Exercise 7:\n",
    "Assign a floating-point number `9.8` to a variable `gravity`.\n",
    "\n",
    "```python\n",
    "# Exercise 7\n",
    "```\n",
    "\n",
    "---\n",
    "\n",
    "### Exercise 8:\n",
    "Create a variable `country` and assign it the string value of your favorite country.\n",
    "\n",
    "```python\n",
    "# Exercise 8\n",
    "```\n",
    "\n",
    "---\n",
    "\n",
    "### Exercise 9:\n",
    "Change the value of variable `age` from `25` to `26` in two separate steps.\n",
    "\n",
    "```python\n",
    "# Exercise 9\n",
    "```\n",
    "\n",
    "---\n",
    "\n",
    "### Exercise 10:\n",
    "Use one variable to store the result of subtracting two numbers `20 - 7`.\n",
    "\n",
    "```python\n",
    "# Exercise 10\n",
    "```\n",
    "\n",
    "---\n",
    "\n",
    "### Exercise 11:\n",
    "Assign an integer value and a floating-point value to two different variables.\n",
    "\n",
    "```python\n",
    "# Exercise 11\n",
    "```\n",
    "\n",
    "---\n",
    "\n",
    "### Exercise 12:\n",
    "Assign a boolean value `False` to a variable `is_completed`.\n",
    "\n",
    "```python\n",
    "# Exercise 12\n",
    "```\n",
    "\n",
    "---\n",
    "\n",
    "### Exercise 13:\n",
    "Swap the values of two variables `x` and `y`.\n",
    "\n",
    "```python\n",
    "# Exercise 13\n",
    "```\n",
    "\n",
    "---\n",
    "\n",
    "### Exercise 14:\n",
    "Assign a complex number `3 + 4j` to a variable `complex_num`.\n",
    "\n",
    "```python\n",
    "# Exercise 14\n",
    "```\n",
    "\n",
    "---\n",
    "\n",
    "### Exercise 15:\n",
    "Reassign a variable from an integer to a string.\n",
    "\n",
    "```python\n",
    "# Exercise 15\n",
    "```\n",
    "\n",
    "---\n",
    "\n",
    "### Exercise 16:\n",
    "Create two variables `first_name` and `last_name`, and assign them your first and last names.\n",
    "\n",
    "```python\n",
    "# Exercise 16\n",
    "```\n",
    "\n",
    "---\n",
    "\n",
    "### Exercise 17:\n",
    "Create a variable `temperature` and assign it the value of `35.5`.\n",
    "\n",
    "```python\n",
    "# Exercise 17\n",
    "```\n",
    "\n",
    "---\n",
    "\n",
    "### Exercise 18:\n",
    "Assign the result of the multiplication of two numbers `8 * 6` to a variable `product`.\n",
    "\n",
    "```python\n",
    "# Exercise 18\n",
    "```\n",
    "\n",
    "---\n",
    "\n",
    "### Exercise 19:\n",
    "Assign a sentence of your choice to a variable `sentence`.\n",
    "\n",
    "```python\n",
    "# Exercise 19\n",
    "```\n",
    "\n",
    "---\n",
    "\n",
    "### Exercise 20:\n",
    "Use an assignment to convert a string `'50'` into an integer variable `int_value`.\n",
    "\n",
    "```python\n",
    "# Exercise 20\n",
    "```\n",
    "\n",
    "---\n",
    "\n",
    "### Exercise 21:\n",
    "Assign the result of dividing `144` by `12` to a variable `quotient`.\n",
    "\n",
    "```python\n",
    "# Exercise 21\n",
    "```\n",
    "\n",
    "---\n",
    "\n",
    "### Exercise 22:\n",
    "Assign the remainder of `47 divided by 5` to a variable `remainder`.\n",
    "\n",
    "```python\n",
    "# Exercise 22\n",
    "```\n",
    "\n",
    "---\n",
    "\n",
    "### Exercise 23:\n",
    "Create a variable `is_student` and assign it the value `True`.\n",
    "\n",
    "```python\n",
    "# Exercise 23\n",
    "```\n",
    "\n",
    "---\n",
    "\n",
    "### Exercise 24:\n",
    "Use a variable to store the result of a modulo operation: `45 % 4`.\n",
    "\n",
    "```python\n",
    "# Exercise 24\n",
    "```\n",
    "\n",
    "---\n",
    "\n",
    "### Exercise 25:\n",
    "Create a variable `pi` and assign it the value `3.14159`.\n",
    "\n",
    "```python\n",
    "# Exercise 25\n",
    "```\n",
    "\n",
    "---\n",
    "\n",
    "### Exercise 26:\n",
    "Create two variables `length` and `width`, assign them values, and calculate the area of a rectangle.\n",
    "\n",
    "```python\n",
    "# Exercise 26\n",
    "```\n",
    "\n",
    "---\n",
    "\n",
    "### Exercise 27:\n",
    "Assign a negative number to a variable `negative_value`.\n",
    "\n",
    "```python\n",
    "# Exercise 27\n",
    "```\n",
    "\n",
    "---\n",
    "\n",
    "### Exercise 28:\n",
    "Assign a string containing a special character (e.g., \"Hello, World!\") to a variable `greeting`.\n",
    "\n",
    "```python\n",
    "# Exercise 28\n",
    "```\n",
    "\n",
    "---\n",
    "\n",
    "### Exercise 29:\n",
    "Create a variable `population` and assign it a large integer value (in billions).\n",
    "\n",
    "```python\n",
    "# Exercise 29\n",
    "```\n",
    "\n",
    "---\n",
    "\n",
    "### Exercise 30:\n",
    "Use a variable to store the result of raising `2` to the power of `8`.\n",
    "\n",
    "```python\n",
    "# Exercise 30\n",
    "```\n",
    "\n",
    "---\n",
    "\n",
    "\n",
    "```python\n",
    "# Exercise 31\n",
    "```\n",
    "\n",
    "---\n",
    "\n",
    "### Exercise 32:\n",
    "Assign a tuple of three numbers to a variable `coordinates`.\n",
    "\n",
    "```python\n",
    "# Exercise 32\n",
    "```\n",
    "\n",
    "---\n",
    "\n",
    "### Exercise 33:\n",
    "Assign a dictionary with keys `name` and `age` to a variable `person`.\n",
    "\n",
    "```python\n",
    "# Exercise 33\n",
    "```\n",
    "\n",
    "---\n",
    "\n",
    "### Exercise 34:\n",
    "Use variables to store the sum of two floating-point numbers.\n",
    "\n",
    "```python\n",
    "# Exercise 34\n",
    "```\n",
    "\n",
    "---\n",
    "\n",
    "### Exercise 35:\n",
    "Create a variable `is_sunny` and assign it the result of a comparison `10 > 5`.\n",
    "\n",
    "```python\n",
    "# Exercise 35\n",
    "```\n",
    "\n",
    "---\n",
    "\n",
    "### Exercise 36:\n",
    "Assign a string and an integer to two different variables, then print both on one line.\n",
    "\n",
    "```python\n",
    "# Exercise 36\n",
    "```\n",
    "\n",
    "---\n",
    "\n",
    "### Exercise 37:\n",
    "Reassign a variable that originally held a number to a boolean value.\n",
    "\n",
    "```python\n",
    "# Exercise 37\n",
    "```\n",
    "\n",
    "---\n",
    "\n",
    "### Exercise 38:\n",
    "Create a variable `is_weekend` and assign it the result of `False`.\n",
    "\n",
    "```python\n",
    "# Exercise 38\n",
    "```\n",
    "\n",
    "---\n",
    "\n",
    "### Exercise 39:\n",
    "Assign a multi-line string to a variable `description`.\n",
    "\n",
    "```python\n",
    "# Exercise 39\n",
    "```\n",
    "\n",
    "---\n",
    "\n",
    "### Exercise 40:\n",
    "Use variables to store the result of the absolute value of `-25`.\n",
    "\n",
    "```python\n",
    "# Exercise 40\n",
    "```\n",
    "\n",
    "---\n",
    "\n",
    "### Exercise 41:\n",
    "Assign the result of a floor division `100 // 6` to a variable `floor_div_result`.\n",
    "\n",
    "```python\n",
    "# Exercise 41\n",
    "```\n",
    "\n",
    "---\n",
    "\n",
    "### Exercise 42:\n",
    "Assign the result of adding a floating-point number to an integer to a variable `mixed_sum`.\n",
    "\n",
    "```python\n",
    "# Exercise 42\n",
    "```\n",
    "\n",
    "---\n",
    "\n",
    "### Exercise 43:\n",
    "Use variables to store a combination of string concatenation.\n",
    "\n",
    "```python\n",
    "# Exercise 43\n",
    "```\n",
    "\n",
    "---\n",
    "\n",
    "### Exercise 44:\n",
    "Assign an empty list to a variable `empty_list`.\n",
    "\n",
    "```python\n",
    "# Exercise 44\n",
    "```\n",
    "\n",
    "---\n",
    "\n",
    "### Exercise 45:\n",
    "Assign a boolean value based on the comparison of two variables `a = 10` and `b = 15`.\n",
    "\n",
    "```python\n",
    "# Exercise 45\n",
    "```\n",
    "\n",
    "---\n",
    "\n",
    "### Exercise 46:\n",
    "Assign a long sentence to a variable and count its characters using `len()`.\n",
    "\n",
    "```python\n",
    "# Exercise 46\n",
    "```\n",
    "\n",
    "---\n",
    "\n",
    "### Exercise 47:\n",
    "Assign a fractional result `7 / 3` to a variable `division_result`.\n",
    "\n",
    "```python\n",
    "# Exercise 47\n",
    "```\n",
    "\n",
    "---\n",
    "\n",
    "### Exercise 48:\n",
    "Create a variable `speed` and assign it the value of 100 kilometers per hour.\n",
    "\n",
    "```python\n",
    "# Exercise 48\n",
    "```\n",
    "\n",
    "---\n",
    "\n",
    "### Exercise 49:\n",
    "Assign a multi-variable equation like `y = 3x + 5` where `x = 4` to a variable `y`.\n",
    "\n",
    "```python\n",
    "# Exercise 49\n",
    "```\n",
    "\n",
    "---\n",
    "\n",
    "### Exercise 50:\n",
    "Use variables to calculate and store the average of three numbers.\n",
    "\n",
    "```python\n",
    "# Exercise 50\n",
    "```\n",
    "\n",
    "****"
   ]
  },
  {
   "cell_type": "code",
   "execution_count": null,
   "id": "e54052a4-cc40-4671-b5d2-3122b9aee1de",
   "metadata": {},
   "outputs": [],
   "source": []
  }
 ],
 "metadata": {
  "kernelspec": {
   "display_name": "Python 3 (ipykernel)",
   "language": "python",
   "name": "python3"
  },
  "language_info": {
   "codemirror_mode": {
    "name": "ipython",
    "version": 3
   },
   "file_extension": ".py",
   "mimetype": "text/x-python",
   "name": "python",
   "nbconvert_exporter": "python",
   "pygments_lexer": "ipython3",
   "version": "3.12.7"
  }
 },
 "nbformat": 4,
 "nbformat_minor": 5
}
